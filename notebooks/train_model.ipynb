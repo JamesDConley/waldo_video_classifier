{
 "cells": [
  {
   "cell_type": "code",
   "execution_count": 1,
   "id": "c0b22a15",
   "metadata": {},
   "outputs": [],
   "source": [
    "import pandas as pd\n",
    "import numpy as np\n",
    "\n",
    "from tqdm import tqdm\n",
    "\n",
    "import os\n",
    "import pandas as pd\n",
    "import matplotlib.pyplot as plt\n",
    "import tensorflow as tf\n",
    "from glob import glob\n",
    "from tqdm import tqdm\n",
    "tqdm.pandas()\n",
    "\n",
    "import cv2\n",
    "\n",
    "import tensorflow_hub as hub\n",
    "import numpy as np\n",
    "\n",
    "import efficientnet.tfkeras as efn \n",
    "import random"
   ]
  },
  {
   "cell_type": "code",
   "execution_count": 2,
   "id": "3611a8fb",
   "metadata": {},
   "outputs": [],
   "source": [
    "def get_frames(path, frames_denominator=2):\n",
    "    \"\"\"\n",
    "    Get frames for the video at the given path\n",
    "    frames_denominator specifies if frames should be dropped, pass 1 for no dropping, 2 to drop every other, 3 to drop 2/3, etc.\n",
    "    \"\"\"\n",
    "    vidcap = cv2.VideoCapture(path)\n",
    "    success,image = vidcap.read()\n",
    "    frames = []\n",
    "    count = 0\n",
    "    while success:\n",
    "        if (count % frames_denominator) == 0:\n",
    "            frames.append(image)   \n",
    "        success,image = vidcap.read()\n",
    "        count += 1\n",
    "    return frames\n",
    "\n",
    "def center_crop(image, center_shape=(448, 448)):\n",
    "    side_crops = (image.shape[0] - center_shape[0]) // 2\n",
    "    top_n_bottom_crops = (image.shape[1] - center_shape[1]) // 2\n",
    "    cropped_image = image[side_crops:-side_crops,top_n_bottom_crops:-top_n_bottom_crops]\n",
    "    return cropped_image\n",
    "\n",
    "from skimage.transform import resize\n",
    "def process_frame(frame, precrop_shape=(448, 448), input_shape=(224, 224)):\n",
    "    \"\"\"\n",
    "    Crop a frame down into the precrop shape, then downscape to the given input shape\n",
    "    \"\"\"\n",
    "    cropped = center_crop(frame, center_shape=precrop_shape) /255\n",
    "    resized_image = resize(\n",
    "        cropped,\n",
    "        input_shape,\n",
    "        order=3, # Bicubic interpolation\n",
    "        preserve_range=True,\n",
    "    )\n",
    "    return resized_image"
   ]
  },
  {
   "cell_type": "code",
   "execution_count": null,
   "id": "ce31ab3c",
   "metadata": {},
   "outputs": [],
   "source": []
  },
  {
   "cell_type": "markdown",
   "id": "dbf9bb71",
   "metadata": {},
   "source": [
    "# Model Plan\n",
    "- CNN + LSTM model\n",
    "- CNN will be a pretrained efficientnet (https://arxiv.org/pdf/1905.11946.pdf)\n",
    "- LSTM will be trained from scratch for ease of implementation"
   ]
  },
  {
   "cell_type": "code",
   "execution_count": 3,
   "id": "6339701c",
   "metadata": {},
   "outputs": [],
   "source": [
    "files = glob(\"../data/clips/*/*.mp4\")"
   ]
  },
  {
   "cell_type": "code",
   "execution_count": 4,
   "id": "979e2fdc",
   "metadata": {},
   "outputs": [
    {
     "data": {
      "text/html": [
       "<div>\n",
       "<style scoped>\n",
       "    .dataframe tbody tr th:only-of-type {\n",
       "        vertical-align: middle;\n",
       "    }\n",
       "\n",
       "    .dataframe tbody tr th {\n",
       "        vertical-align: top;\n",
       "    }\n",
       "\n",
       "    .dataframe thead th {\n",
       "        text-align: right;\n",
       "    }\n",
       "</style>\n",
       "<table border=\"1\" class=\"dataframe\">\n",
       "  <thead>\n",
       "    <tr style=\"text-align: right;\">\n",
       "      <th></th>\n",
       "      <th>path</th>\n",
       "      <th>label</th>\n",
       "    </tr>\n",
       "  </thead>\n",
       "  <tbody>\n",
       "    <tr>\n",
       "      <th>0</th>\n",
       "      <td>../data/clips/normal/41.mp4</td>\n",
       "      <td>normal</td>\n",
       "    </tr>\n",
       "    <tr>\n",
       "      <th>1</th>\n",
       "      <td>../data/clips/normal/43.mp4</td>\n",
       "      <td>normal</td>\n",
       "    </tr>\n",
       "    <tr>\n",
       "      <th>2</th>\n",
       "      <td>../data/clips/normal/12.mp4</td>\n",
       "      <td>normal</td>\n",
       "    </tr>\n",
       "    <tr>\n",
       "      <th>3</th>\n",
       "      <td>../data/clips/normal/38.mp4</td>\n",
       "      <td>normal</td>\n",
       "    </tr>\n",
       "    <tr>\n",
       "      <th>4</th>\n",
       "      <td>../data/clips/normal/14.mp4</td>\n",
       "      <td>normal</td>\n",
       "    </tr>\n",
       "  </tbody>\n",
       "</table>\n",
       "</div>"
      ],
      "text/plain": [
       "                          path   label\n",
       "0  ../data/clips/normal/41.mp4  normal\n",
       "1  ../data/clips/normal/43.mp4  normal\n",
       "2  ../data/clips/normal/12.mp4  normal\n",
       "3  ../data/clips/normal/38.mp4  normal\n",
       "4  ../data/clips/normal/14.mp4  normal"
      ]
     },
     "execution_count": 4,
     "metadata": {},
     "output_type": "execute_result"
    }
   ],
   "source": [
    "clip_df = pd.DataFrame()\n",
    "clip_df[\"path\"] = files\n",
    "clip_df[\"label\"] = clip_df[\"path\"].apply(lambda x : x.split(\"/\")[-2])\n",
    "clip_df.head()"
   ]
  },
  {
   "cell_type": "code",
   "execution_count": 5,
   "id": "114869f0",
   "metadata": {},
   "outputs": [
    {
     "data": {
      "text/plain": [
       "hax       35\n",
       "normal    35\n",
       "Name: label, dtype: int64"
      ]
     },
     "execution_count": 5,
     "metadata": {},
     "output_type": "execute_result"
    }
   ],
   "source": [
    "clip_df[\"label\"].value_counts()"
   ]
  },
  {
   "cell_type": "code",
   "execution_count": 6,
   "id": "effcaa49",
   "metadata": {},
   "outputs": [],
   "source": [
    "# CNN_TRAINABLE = False\n",
    "# Batch_size, time_component, length, width, depth\n",
    "input_shape = (60, 224, 224, 3)"
   ]
  },
  {
   "cell_type": "code",
   "execution_count": 7,
   "id": "f010104c",
   "metadata": {},
   "outputs": [],
   "source": [
    "efn_b0 = efn.EfficientNetB0(weights='imagenet')"
   ]
  },
  {
   "cell_type": "code",
   "execution_count": 8,
   "id": "3cef6b42",
   "metadata": {},
   "outputs": [],
   "source": [
    "inputs = tf.keras.Input(shape=input_shape)\n",
    "embedding_sequence = tf.keras.layers.TimeDistributed(efn_b0)(inputs)\n",
    "gru_layer = tf.keras.layers.GRU(10)(embedding_sequence)\n",
    "output_layer = tf.keras.layers.Dense(1, activation=\"sigmoid\")(gru_layer)"
   ]
  },
  {
   "cell_type": "code",
   "execution_count": 9,
   "id": "47cc9692",
   "metadata": {},
   "outputs": [
    {
     "name": "stdout",
     "output_type": "stream",
     "text": [
      "Model: \"model\"\n",
      "_________________________________________________________________\n",
      "Layer (type)                 Output Shape              Param #   \n",
      "=================================================================\n",
      "input_2 (InputLayer)         [(None, 60, 224, 224, 3)] 0         \n",
      "_________________________________________________________________\n",
      "time_distributed (TimeDistri (None, 60, 1000)          5330564   \n",
      "_________________________________________________________________\n",
      "gru (GRU)                    (None, 10)                30360     \n",
      "_________________________________________________________________\n",
      "dense (Dense)                (None, 1)                 11        \n",
      "=================================================================\n",
      "Total params: 5,360,935\n",
      "Trainable params: 5,318,919\n",
      "Non-trainable params: 42,016\n",
      "_________________________________________________________________\n"
     ]
    }
   ],
   "source": [
    "model = tf.keras.Model(inputs, output_layer)\n",
    "model.summary()"
   ]
  },
  {
   "cell_type": "code",
   "execution_count": 10,
   "id": "0aef125a",
   "metadata": {},
   "outputs": [],
   "source": [
    "def get_items_loop(lst, low, high):\n",
    "    nums = range(low, high)\n",
    "    nums = [num % len(lst) for num in nums]\n",
    "    return [lst[idx] for idx in nums]\n",
    "\n",
    "\n",
    "# TODO fix batch_size not actually being batch_size\n",
    "def data_generator(pos_paths, neg_paths, batch_size=8):\n",
    "    assert batch_size / 2 != 0, \"Batch size must be a multiple of 2 for balanced data generation\"\n",
    "    total_size = len(pos_paths + neg_paths)\n",
    "    batch_size = batch_size//2\n",
    "    while True:\n",
    "        random.shuffle(pos_paths)\n",
    "        random.shuffle(neg_paths)\n",
    "        count = 0\n",
    "        while count < total_size:\n",
    "            combined_paths = get_items_loop(pos_paths, count, count+batch_size)\n",
    "            combined_paths += get_items_loop(neg_paths, count, count+batch_size)\n",
    "            frame_list = [[process_frame(frame) for frame in get_frames(path)] for path in combined_paths]\n",
    "            count += batch_size*2\n",
    "            labels = np.zeros(batch_size*2)\n",
    "            labels[0:batch_size] = 1\n",
    "            yield np.stack(frame_list), np.array(labels)"
   ]
  },
  {
   "cell_type": "code",
   "execution_count": 11,
   "id": "b8a2e142",
   "metadata": {},
   "outputs": [
    {
     "data": {
      "text/plain": [
       "35"
      ]
     },
     "execution_count": 11,
     "metadata": {},
     "output_type": "execute_result"
    }
   ],
   "source": [
    "hax_paths = clip_df[clip_df[\"label\"] == \"hax\"][\"path\"].tolist()\n",
    "normal_paths = clip_df[clip_df[\"label\"] == \"normal\"][\"path\"].tolist()\n",
    "len(hax_paths)"
   ]
  },
  {
   "cell_type": "code",
   "execution_count": 12,
   "id": "20b22936",
   "metadata": {},
   "outputs": [],
   "source": [
    "batch_size = 2"
   ]
  },
  {
   "cell_type": "code",
   "execution_count": 13,
   "id": "6259b5cb",
   "metadata": {},
   "outputs": [],
   "source": [
    "dg = data_generator(hax_paths, normal_paths, batch_size=batch_size)"
   ]
  },
  {
   "cell_type": "code",
   "execution_count": 14,
   "id": "812faf62",
   "metadata": {},
   "outputs": [],
   "source": [
    "model.compile(loss=\"binary_crossentropy\", optimizer=\"adam\", metrics=[\"accuracy\"])"
   ]
  },
  {
   "cell_type": "code",
   "execution_count": 15,
   "id": "e92f0fe4",
   "metadata": {},
   "outputs": [
    {
     "name": "stderr",
     "output_type": "stream",
     "text": [
      "/usr/local/lib/python3.6/dist-packages/keras/engine/training.py:1972: UserWarning: `Model.fit_generator` is deprecated and will be removed in a future version. Please use `Model.fit`, which supports generators.\n",
      "  warnings.warn('`Model.fit_generator` is deprecated and '\n"
     ]
    },
    {
     "name": "stdout",
     "output_type": "stream",
     "text": [
      "Epoch 1/10\n",
      "43/43 [==============================] - 108s 2s/step - loss: 0.6868 - accuracy: 0.6163\n",
      "Epoch 2/10\n",
      "43/43 [==============================] - 98s 2s/step - loss: 0.6552 - accuracy: 0.7674\n",
      "Epoch 3/10\n",
      "43/43 [==============================] - 99s 2s/step - loss: 0.5673 - accuracy: 0.7674\n",
      "Epoch 4/10\n",
      "43/43 [==============================] - 101s 2s/step - loss: 0.3287 - accuracy: 0.9070\n",
      "Epoch 5/10\n",
      "43/43 [==============================] - 99s 2s/step - loss: 0.1022 - accuracy: 1.0000\n",
      "Epoch 6/10\n",
      "43/43 [==============================] - 99s 2s/step - loss: 0.0637 - accuracy: 1.0000\n",
      "Epoch 7/10\n",
      "43/43 [==============================] - 101s 2s/step - loss: 0.2660 - accuracy: 0.9070\n",
      "Epoch 8/10\n",
      "43/43 [==============================] - 103s 2s/step - loss: 0.0835 - accuracy: 0.9884\n",
      "Epoch 9/10\n",
      "43/43 [==============================] - 102s 2s/step - loss: 0.1022 - accuracy: 0.9767\n",
      "Epoch 10/10\n",
      "43/43 [==============================] - 101s 2s/step - loss: 0.4979 - accuracy: 0.8140\n"
     ]
    },
    {
     "data": {
      "text/plain": [
       "<keras.callbacks.History at 0x7fbed83039e8>"
      ]
     },
     "execution_count": 15,
     "metadata": {},
     "output_type": "execute_result"
    }
   ],
   "source": [
    "model.fit_generator(dg, epochs=10, steps_per_epoch=86//batch_size)"
   ]
  },
  {
   "cell_type": "code",
   "execution_count": 16,
   "id": "c58d0d51",
   "metadata": {},
   "outputs": [
    {
     "data": {
      "text/plain": [
       "35"
      ]
     },
     "execution_count": 16,
     "metadata": {},
     "output_type": "execute_result"
    }
   ],
   "source": [
    "len(hax_paths)"
   ]
  },
  {
   "cell_type": "code",
   "execution_count": 17,
   "id": "4ad4a403",
   "metadata": {},
   "outputs": [
    {
     "data": {
      "text/html": [
       "<div>\n",
       "<style scoped>\n",
       "    .dataframe tbody tr th:only-of-type {\n",
       "        vertical-align: middle;\n",
       "    }\n",
       "\n",
       "    .dataframe tbody tr th {\n",
       "        vertical-align: top;\n",
       "    }\n",
       "\n",
       "    .dataframe thead th {\n",
       "        text-align: right;\n",
       "    }\n",
       "</style>\n",
       "<table border=\"1\" class=\"dataframe\">\n",
       "  <thead>\n",
       "    <tr style=\"text-align: right;\">\n",
       "      <th></th>\n",
       "      <th>path</th>\n",
       "      <th>label</th>\n",
       "    </tr>\n",
       "  </thead>\n",
       "  <tbody>\n",
       "    <tr>\n",
       "      <th>0</th>\n",
       "      <td>../data/holdout_clips/normal/20.mp4</td>\n",
       "      <td>normal</td>\n",
       "    </tr>\n",
       "    <tr>\n",
       "      <th>1</th>\n",
       "      <td>../data/holdout_clips/normal/35.mp4</td>\n",
       "      <td>normal</td>\n",
       "    </tr>\n",
       "    <tr>\n",
       "      <th>2</th>\n",
       "      <td>../data/holdout_clips/normal/10.mp4</td>\n",
       "      <td>normal</td>\n",
       "    </tr>\n",
       "    <tr>\n",
       "      <th>3</th>\n",
       "      <td>../data/holdout_clips/normal/5.mp4</td>\n",
       "      <td>normal</td>\n",
       "    </tr>\n",
       "    <tr>\n",
       "      <th>4</th>\n",
       "      <td>../data/holdout_clips/normal/40.mp4</td>\n",
       "      <td>normal</td>\n",
       "    </tr>\n",
       "  </tbody>\n",
       "</table>\n",
       "</div>"
      ],
      "text/plain": [
       "                                  path   label\n",
       "0  ../data/holdout_clips/normal/20.mp4  normal\n",
       "1  ../data/holdout_clips/normal/35.mp4  normal\n",
       "2  ../data/holdout_clips/normal/10.mp4  normal\n",
       "3   ../data/holdout_clips/normal/5.mp4  normal\n",
       "4  ../data/holdout_clips/normal/40.mp4  normal"
      ]
     },
     "execution_count": 17,
     "metadata": {},
     "output_type": "execute_result"
    }
   ],
   "source": [
    "ho_files = glob(\"../data/holdout_clips/*/*.mp4\")\n",
    "holdout_df = pd.DataFrame()\n",
    "holdout_df[\"path\"] = ho_files\n",
    "holdout_df[\"label\"] = holdout_df[\"path\"].apply(lambda x : x.split(\"/\")[-2])\n",
    "holdout_df.head()"
   ]
  },
  {
   "cell_type": "code",
   "execution_count": 18,
   "id": "09c6fa45",
   "metadata": {},
   "outputs": [
    {
     "data": {
      "text/plain": [
       "hax       8\n",
       "normal    8\n",
       "Name: label, dtype: int64"
      ]
     },
     "execution_count": 18,
     "metadata": {},
     "output_type": "execute_result"
    }
   ],
   "source": [
    "holdout_df[\"label\"].value_counts()"
   ]
  },
  {
   "cell_type": "code",
   "execution_count": 19,
   "id": "4e7c875d",
   "metadata": {},
   "outputs": [],
   "source": [
    "ho_hax_paths = holdout_df[holdout_df[\"label\"] == \"hax\"][\"path\"].tolist()\n",
    "ho_normal_paths = holdout_df[holdout_df[\"label\"] == \"normal\"][\"path\"].tolist()"
   ]
  },
  {
   "cell_type": "code",
   "execution_count": 20,
   "id": "c19c34eb",
   "metadata": {},
   "outputs": [
    {
     "data": {
      "text/plain": [
       "['../data/holdout_clips/normal/20.mp4',\n",
       " '../data/holdout_clips/normal/35.mp4',\n",
       " '../data/holdout_clips/normal/10.mp4',\n",
       " '../data/holdout_clips/normal/5.mp4',\n",
       " '../data/holdout_clips/normal/40.mp4',\n",
       " '../data/holdout_clips/normal/15.mp4',\n",
       " '../data/holdout_clips/normal/30.mp4',\n",
       " '../data/holdout_clips/normal/25.mp4']"
      ]
     },
     "execution_count": 20,
     "metadata": {},
     "output_type": "execute_result"
    }
   ],
   "source": [
    "ho_normal_paths"
   ]
  },
  {
   "cell_type": "code",
   "execution_count": 21,
   "id": "0c642034",
   "metadata": {},
   "outputs": [],
   "source": [
    "steps = (len(ho_hax_paths) + len(ho_normal_paths)) / batch_size"
   ]
  },
  {
   "cell_type": "code",
   "execution_count": 22,
   "id": "0da3d43a",
   "metadata": {},
   "outputs": [],
   "source": [
    "holdout_generator = data_generator(ho_hax_paths, ho_normal_paths, batch_size=batch_size)"
   ]
  },
  {
   "cell_type": "code",
   "execution_count": 23,
   "id": "c8518918",
   "metadata": {},
   "outputs": [
    {
     "name": "stdout",
     "output_type": "stream",
     "text": [
      "8/8 [==============================] - 18s 2s/step - loss: 0.6794 - accuracy: 0.7500\n"
     ]
    },
    {
     "data": {
      "text/plain": [
       "[0.6793551445007324, 0.75]"
      ]
     },
     "execution_count": 23,
     "metadata": {},
     "output_type": "execute_result"
    }
   ],
   "source": [
    "model.evaluate(holdout_generator, steps=steps)"
   ]
  },
  {
   "cell_type": "code",
   "execution_count": 24,
   "id": "1c2277fd",
   "metadata": {},
   "outputs": [],
   "source": [
    "inp, out = next(holdout_generator)"
   ]
  },
  {
   "cell_type": "code",
   "execution_count": 25,
   "id": "ccecc5f8",
   "metadata": {},
   "outputs": [
    {
     "data": {
      "text/plain": [
       "array([1., 0.])"
      ]
     },
     "execution_count": 25,
     "metadata": {},
     "output_type": "execute_result"
    }
   ],
   "source": [
    "out"
   ]
  },
  {
   "cell_type": "code",
   "execution_count": 26,
   "id": "12881553",
   "metadata": {},
   "outputs": [
    {
     "data": {
      "text/plain": [
       "array([[0.9674691 ],\n",
       "       [0.06465961]], dtype=float32)"
      ]
     },
     "execution_count": 26,
     "metadata": {},
     "output_type": "execute_result"
    }
   ],
   "source": [
    "model.predict(inp)"
   ]
  },
  {
   "cell_type": "code",
   "execution_count": null,
   "id": "327faf97",
   "metadata": {},
   "outputs": [],
   "source": []
  }
 ],
 "metadata": {
  "kernelspec": {
   "display_name": "Python 3",
   "language": "python",
   "name": "python3"
  },
  "language_info": {
   "codemirror_mode": {
    "name": "ipython",
    "version": 3
   },
   "file_extension": ".py",
   "mimetype": "text/x-python",
   "name": "python",
   "nbconvert_exporter": "python",
   "pygments_lexer": "ipython3",
   "version": "3.6.9"
  }
 },
 "nbformat": 4,
 "nbformat_minor": 5
}
